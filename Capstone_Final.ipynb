{
 "cells": [
  {
   "cell_type": "code",
   "execution_count": 8,
   "id": "6327c3b4",
   "metadata": {},
   "outputs": [
    {
     "name": "stdout",
     "output_type": "stream",
     "text": [
      "Requirement already satisfied: opencv-python in c:\\programdata\\anaconda3\\lib\\site-packages (4.5.5.64)\n",
      "Requirement already satisfied: numpy>=1.14.5 in c:\\programdata\\anaconda3\\lib\\site-packages (from opencv-python) (1.21.5)\n"
     ]
    },
    {
     "name": "stderr",
     "output_type": "stream",
     "text": [
      "WARNING: Ignoring invalid distribution -ywinpty (c:\\programdata\\anaconda3\\lib\\site-packages)\n",
      "WARNING: Ignoring invalid distribution -ywinpty (c:\\programdata\\anaconda3\\lib\\site-packages)\n",
      "WARNING: Ignoring invalid distribution -ywinpty (c:\\programdata\\anaconda3\\lib\\site-packages)\n",
      "WARNING: Ignoring invalid distribution -ywinpty (c:\\programdata\\anaconda3\\lib\\site-packages)\n",
      "WARNING: Ignoring invalid distribution -ywinpty (c:\\programdata\\anaconda3\\lib\\site-packages)\n",
      "WARNING: Ignoring invalid distribution -ywinpty (c:\\programdata\\anaconda3\\lib\\site-packages)\n"
     ]
    },
    {
     "name": "stdout",
     "output_type": "stream",
     "text": [
      "Requirement already satisfied: numpy in c:\\programdata\\anaconda3\\lib\\site-packages (1.21.5)\n"
     ]
    },
    {
     "name": "stderr",
     "output_type": "stream",
     "text": [
      "WARNING: Ignoring invalid distribution -ywinpty (c:\\programdata\\anaconda3\\lib\\site-packages)\n",
      "WARNING: Ignoring invalid distribution -ywinpty (c:\\programdata\\anaconda3\\lib\\site-packages)\n",
      "WARNING: Ignoring invalid distribution -ywinpty (c:\\programdata\\anaconda3\\lib\\site-packages)\n",
      "WARNING: Ignoring invalid distribution -ywinpty (c:\\programdata\\anaconda3\\lib\\site-packages)\n",
      "WARNING: Ignoring invalid distribution -ywinpty (c:\\programdata\\anaconda3\\lib\\site-packages)\n",
      "WARNING: Ignoring invalid distribution -ywinpty (c:\\programdata\\anaconda3\\lib\\site-packages)\n"
     ]
    },
    {
     "name": "stdout",
     "output_type": "stream",
     "text": [
      "Requirement already satisfied: pandas in c:\\programdata\\anaconda3\\lib\\site-packages (1.4.2)\n",
      "Requirement already satisfied: pytz>=2020.1 in c:\\programdata\\anaconda3\\lib\\site-packages (from pandas) (2021.3)\n",
      "Requirement already satisfied: numpy>=1.18.5 in c:\\programdata\\anaconda3\\lib\\site-packages (from pandas) (1.21.5)\n",
      "Requirement already satisfied: python-dateutil>=2.8.1 in c:\\programdata\\anaconda3\\lib\\site-packages (from pandas) (2.8.2)\n",
      "Requirement already satisfied: six>=1.5 in c:\\programdata\\anaconda3\\lib\\site-packages (from python-dateutil>=2.8.1->pandas) (1.16.0)\n"
     ]
    },
    {
     "name": "stderr",
     "output_type": "stream",
     "text": [
      "WARNING: Ignoring invalid distribution -ywinpty (c:\\programdata\\anaconda3\\lib\\site-packages)\n",
      "WARNING: Ignoring invalid distribution -ywinpty (c:\\programdata\\anaconda3\\lib\\site-packages)\n",
      "WARNING: Ignoring invalid distribution -ywinpty (c:\\programdata\\anaconda3\\lib\\site-packages)\n",
      "WARNING: Ignoring invalid distribution -ywinpty (c:\\programdata\\anaconda3\\lib\\site-packages)\n",
      "WARNING: Ignoring invalid distribution -ywinpty (c:\\programdata\\anaconda3\\lib\\site-packages)\n",
      "WARNING: Ignoring invalid distribution -ywinpty (c:\\programdata\\anaconda3\\lib\\site-packages)\n",
      "WARNING: Ignoring invalid distribution -ywinpty (c:\\programdata\\anaconda3\\lib\\site-packages)\n",
      "WARNING: Ignoring invalid distribution -ywinpty (c:\\programdata\\anaconda3\\lib\\site-packages)\n",
      "WARNING: Ignoring invalid distribution -ywinpty (c:\\programdata\\anaconda3\\lib\\site-packages)\n",
      "WARNING: Ignoring invalid distribution -ywinpty (c:\\programdata\\anaconda3\\lib\\site-packages)\n",
      "WARNING: Ignoring invalid distribution -ywinpty (c:\\programdata\\anaconda3\\lib\\site-packages)\n",
      "WARNING: Ignoring invalid distribution -ywinpty (c:\\programdata\\anaconda3\\lib\\site-packages)\n"
     ]
    },
    {
     "name": "stdout",
     "output_type": "stream",
     "text": [
      "Requirement already satisfied: panel in c:\\programdata\\anaconda3\\lib\\site-packages (0.13.0)\n",
      "Requirement already satisfied: pyviz-comms>=0.7.4 in c:\\programdata\\anaconda3\\lib\\site-packages (from panel) (2.0.2)\n",
      "Requirement already satisfied: param>=1.12.0 in c:\\programdata\\anaconda3\\lib\\site-packages (from panel) (1.12.0)\n",
      "Requirement already satisfied: markdown in c:\\programdata\\anaconda3\\lib\\site-packages (from panel) (3.3.4)\n",
      "Requirement already satisfied: tqdm>=4.48.0 in c:\\programdata\\anaconda3\\lib\\site-packages (from panel) (4.64.0)\n",
      "Requirement already satisfied: pyct>=0.4.4 in c:\\programdata\\anaconda3\\lib\\site-packages (from panel) (0.4.6)\n",
      "Requirement already satisfied: requests in c:\\programdata\\anaconda3\\lib\\site-packages (from panel) (2.27.1)\n",
      "Requirement already satisfied: bleach in c:\\programdata\\anaconda3\\lib\\site-packages (from panel) (4.1.0)\n",
      "Requirement already satisfied: bokeh<2.5.0,>=2.4.0 in c:\\programdata\\anaconda3\\lib\\site-packages (from panel) (2.4.2)\n",
      "Requirement already satisfied: PyYAML>=3.10 in c:\\programdata\\anaconda3\\lib\\site-packages (from bokeh<2.5.0,>=2.4.0->panel) (6.0)\n",
      "Requirement already satisfied: numpy>=1.11.3 in c:\\programdata\\anaconda3\\lib\\site-packages (from bokeh<2.5.0,>=2.4.0->panel) (1.21.5)\n",
      "Requirement already satisfied: tornado>=5.1 in c:\\programdata\\anaconda3\\lib\\site-packages (from bokeh<2.5.0,>=2.4.0->panel) (6.1)\n",
      "Requirement already satisfied: pillow>=7.1.0 in c:\\programdata\\anaconda3\\lib\\site-packages (from bokeh<2.5.0,>=2.4.0->panel) (9.0.1)\n",
      "Requirement already satisfied: typing-extensions>=3.10.0 in c:\\programdata\\anaconda3\\lib\\site-packages (from bokeh<2.5.0,>=2.4.0->panel) (4.1.1)\n",
      "Requirement already satisfied: packaging>=16.8 in c:\\programdata\\anaconda3\\lib\\site-packages (from bokeh<2.5.0,>=2.4.0->panel) (21.3)\n",
      "Requirement already satisfied: Jinja2>=2.9 in c:\\programdata\\anaconda3\\lib\\site-packages (from bokeh<2.5.0,>=2.4.0->panel) (2.11.3)\n",
      "Requirement already satisfied: MarkupSafe>=0.23 in c:\\programdata\\anaconda3\\lib\\site-packages (from Jinja2>=2.9->bokeh<2.5.0,>=2.4.0->panel) (2.0.1)\n",
      "Requirement already satisfied: pyparsing!=3.0.5,>=2.0.2 in c:\\programdata\\anaconda3\\lib\\site-packages (from packaging>=16.8->bokeh<2.5.0,>=2.4.0->panel) (3.0.4)\n",
      "Requirement already satisfied: colorama in c:\\programdata\\anaconda3\\lib\\site-packages (from tqdm>=4.48.0->panel) (0.4.4)\n",
      "Requirement already satisfied: webencodings in c:\\programdata\\anaconda3\\lib\\site-packages (from bleach->panel) (0.5.1)\n",
      "Requirement already satisfied: six>=1.9.0 in c:\\programdata\\anaconda3\\lib\\site-packages (from bleach->panel) (1.16.0)\n",
      "Requirement already satisfied: idna<4,>=2.5 in c:\\programdata\\anaconda3\\lib\\site-packages (from requests->panel) (3.3)\n",
      "Requirement already satisfied: certifi>=2017.4.17 in c:\\programdata\\anaconda3\\lib\\site-packages (from requests->panel) (2021.10.8)\n",
      "Requirement already satisfied: charset-normalizer~=2.0.0 in c:\\programdata\\anaconda3\\lib\\site-packages (from requests->panel) (2.0.4)\n",
      "Requirement already satisfied: urllib3<1.27,>=1.21.1 in c:\\programdata\\anaconda3\\lib\\site-packages (from requests->panel) (1.26.9)\n"
     ]
    },
    {
     "data": {},
     "metadata": {},
     "output_type": "display_data"
    },
    {
     "data": {},
     "metadata": {},
     "output_type": "display_data"
    },
    {
     "data": {
      "application/vnd.holoviews_exec.v0+json": "",
      "text/html": [
       "<div id='3007'>\n",
       "\n",
       "\n",
       "\n",
       "\n",
       "\n",
       "  <div class=\"bk-root\" id=\"1e8e9898-6205-4b25-a6e1-cad36994cf1e\" data-root-id=\"3007\"></div>\n",
       "</div>\n",
       "<script type=\"application/javascript\">(function(root) {\n",
       "  function embed_document(root) {\n",
       "    var docs_json = {\"28441094-565f-4637-9ebb-7f7f63f33a5d\":{\"defs\":[{\"extends\":null,\"module\":null,\"name\":\"ReactiveHTML1\",\"overrides\":[],\"properties\":[]},{\"extends\":null,\"module\":null,\"name\":\"FlexBox1\",\"overrides\":[],\"properties\":[{\"default\":\"flex-start\",\"kind\":null,\"name\":\"align_content\"},{\"default\":\"flex-start\",\"kind\":null,\"name\":\"align_items\"},{\"default\":\"row\",\"kind\":null,\"name\":\"flex_direction\"},{\"default\":\"wrap\",\"kind\":null,\"name\":\"flex_wrap\"},{\"default\":\"flex-start\",\"kind\":null,\"name\":\"justify_content\"}]},{\"extends\":null,\"module\":null,\"name\":\"GridStack1\",\"overrides\":[],\"properties\":[{\"default\":\"warn\",\"kind\":null,\"name\":\"mode\"},{\"default\":null,\"kind\":null,\"name\":\"ncols\"},{\"default\":null,\"kind\":null,\"name\":\"nrows\"},{\"default\":true,\"kind\":null,\"name\":\"allow_resize\"},{\"default\":true,\"kind\":null,\"name\":\"allow_drag\"},{\"default\":[],\"kind\":null,\"name\":\"state\"}]},{\"extends\":null,\"module\":null,\"name\":\"click1\",\"overrides\":[],\"properties\":[{\"default\":\"\",\"kind\":null,\"name\":\"terminal_output\"},{\"default\":\"\",\"kind\":null,\"name\":\"debug_name\"},{\"default\":0,\"kind\":null,\"name\":\"clears\"}]},{\"extends\":null,\"module\":null,\"name\":\"TemplateActions1\",\"overrides\":[],\"properties\":[{\"default\":0,\"kind\":null,\"name\":\"open_modal\"},{\"default\":0,\"kind\":null,\"name\":\"close_modal\"}]},{\"extends\":null,\"module\":null,\"name\":\"MaterialTemplateActions1\",\"overrides\":[],\"properties\":[{\"default\":0,\"kind\":null,\"name\":\"open_modal\"},{\"default\":0,\"kind\":null,\"name\":\"close_modal\"}]}],\"roots\":{\"references\":[{\"attributes\":{},\"id\":\"3033\",\"type\":\"PanTool\"},{\"attributes\":{},\"id\":\"3115\",\"type\":\"UnionRenderers\"},{\"attributes\":{\"css_classes\":[\"markdown\"],\"margin\":[5,5,5,5],\"name\":\"Markdown03365\",\"text\":\"&lt;h2&gt;Interactive Dashboard&lt;/h2&gt;\"},\"id\":\"3010\",\"type\":\"panel.models.markup.HTML\"},{\"attributes\":{\"source\":{\"id\":\"3044\"}},\"id\":\"3050\",\"type\":\"CDSView\"},{\"attributes\":{\"x0\":{\"field\":\"x0\"},\"x1\":{\"field\":\"x1\"},\"y0\":{\"field\":\"y0\"},\"y1\":{\"field\":\"y1\"}},\"id\":\"3062\",\"type\":\"Segment\"},{\"attributes\":{\"source\":{\"id\":\"3052\"}},\"id\":\"3058\",\"type\":\"CDSView\"},{\"attributes\":{\"source\":{\"id\":\"3092\"}},\"id\":\"3098\",\"type\":\"CDSView\"},{\"attributes\":{\"factors\":[\"Labour\",\"Materials\",\"SubContract\",\"Others\",\"Total\"],\"tags\":[[[\"Variable\",\"Variable\",null]]]},\"id\":\"3014\",\"type\":\"FactorRange\"},{\"attributes\":{},\"id\":\"3116\",\"type\":\"Selection\"},{\"attributes\":{\"reload\":false},\"id\":\"3286\",\"type\":\"panel.models.location.Location\"},{\"attributes\":{\"axis_label\":\"Costs ($)\",\"coordinates\":null,\"formatter\":{\"id\":\"3104\"},\"group\":null,\"major_label_policy\":{\"id\":\"3105\"},\"ticker\":{\"id\":\"3029\"}},\"id\":\"3028\",\"type\":\"LinearAxis\"},{\"attributes\":{},\"id\":\"3102\",\"type\":\"AllLabels\"},{\"attributes\":{\"line_alpha\":{\"value\":0.1},\"x0\":{\"field\":\"x0\"},\"x1\":{\"field\":\"x1\"},\"y0\":{\"field\":\"y0\"},\"y1\":{\"field\":\"y1\"}},\"id\":\"3055\",\"type\":\"Segment\"},{\"attributes\":{},\"id\":\"3026\",\"type\":\"CategoricalTicker\"},{\"attributes\":{\"x0\":{\"field\":\"x0\"},\"x1\":{\"field\":\"x1\"},\"y0\":{\"field\":\"y0\"},\"y1\":{\"field\":\"y1\"}},\"id\":\"3054\",\"type\":\"Segment\"},{\"attributes\":{\"coordinates\":null,\"data_source\":{\"id\":\"3076\"},\"glyph\":{\"id\":\"3078\"},\"group\":null,\"hover_glyph\":null,\"muted_glyph\":{\"id\":\"3080\"},\"nonselection_glyph\":{\"id\":\"3079\"},\"selection_glyph\":{\"id\":\"3083\"},\"view\":{\"id\":\"3082\"}},\"id\":\"3081\",\"type\":\"GlyphRenderer\"},{\"attributes\":{\"axis\":{\"id\":\"3028\"},\"coordinates\":null,\"dimension\":1,\"grid_line_color\":null,\"group\":null,\"ticker\":null},\"id\":\"3031\",\"type\":\"Grid\"},{\"attributes\":{\"source\":{\"id\":\"3060\"}},\"id\":\"3066\",\"type\":\"CDSView\"},{\"attributes\":{\"axis\":{\"id\":\"3025\"},\"coordinates\":null,\"grid_line_color\":null,\"group\":null,\"ticker\":null},\"id\":\"3027\",\"type\":\"Grid\"},{\"attributes\":{},\"id\":\"3113\",\"type\":\"UnionRenderers\"},{\"attributes\":{},\"id\":\"3117\",\"type\":\"UnionRenderers\"},{\"attributes\":{\"below\":[{\"id\":\"3025\"}],\"center\":[{\"id\":\"3027\"},{\"id\":\"3031\"}],\"height\":700,\"left\":[{\"id\":\"3028\"}],\"margin\":[5,5,5,5],\"min_border_bottom\":10,\"min_border_left\":10,\"min_border_right\":10,\"min_border_top\":10,\"renderers\":[{\"id\":\"3049\"},{\"id\":\"3057\"},{\"id\":\"3065\"},{\"id\":\"3073\"},{\"id\":\"3081\"},{\"id\":\"3089\"},{\"id\":\"3097\"}],\"sizing_mode\":\"fixed\",\"title\":{\"id\":\"3017\"},\"toolbar\":{\"id\":\"3038\"},\"width\":1100,\"x_range\":{\"id\":\"3014\"},\"x_scale\":{\"id\":\"3021\"},\"y_range\":{\"id\":\"3015\"},\"y_scale\":{\"id\":\"3023\"}},\"id\":\"3016\",\"subtype\":\"Figure\",\"type\":\"Plot\"},{\"attributes\":{\"source\":{\"id\":\"3076\"}},\"id\":\"3082\",\"type\":\"CDSView\"},{\"attributes\":{},\"id\":\"3118\",\"type\":\"Selection\"},{\"attributes\":{\"fill_alpha\":{\"value\":0.1},\"fill_color\":{\"value\":\"black\"},\"hatch_alpha\":{\"value\":0.1},\"line_alpha\":{\"value\":0.1},\"x\":{\"field\":\"index\"},\"y\":{\"field\":\"Costs_left_parenthesis_right_parenthesis\"}},\"id\":\"3047\",\"type\":\"Circle\"},{\"attributes\":{\"children\":[{\"id\":\"3016\"}],\"margin\":[0,0,0,0],\"name\":\"Row03372\"},\"id\":\"3013\",\"type\":\"Row\"},{\"attributes\":{\"children\":[{\"id\":\"3009\"},{\"id\":\"3013\"}],\"margin\":[0,0,0,0],\"name\":\"Costs\"},\"id\":\"3008\",\"type\":\"Row\"},{\"attributes\":{},\"id\":\"3029\",\"type\":\"BasicTicker\"},{\"attributes\":{\"line_alpha\":{\"value\":0.2},\"x0\":{\"field\":\"x0\"},\"x1\":{\"field\":\"x1\"},\"y0\":{\"field\":\"y0\"},\"y1\":{\"field\":\"y1\"}},\"id\":\"3072\",\"type\":\"Segment\"},{\"attributes\":{\"axis_label\":\"Different Types of Cost\",\"coordinates\":null,\"formatter\":{\"id\":\"3101\"},\"group\":null,\"major_label_policy\":{\"id\":\"3102\"},\"ticker\":{\"id\":\"3026\"}},\"id\":\"3025\",\"type\":\"CategoricalAxis\"},{\"attributes\":{},\"id\":\"3119\",\"type\":\"UnionRenderers\"},{\"attributes\":{\"children\":[{\"id\":\"3010\"},{\"id\":\"3011\"},{\"id\":\"3012\"}],\"css_classes\":[\"panel-widget-box\"],\"margin\":[5,5,5,5],\"name\":\"WidgetBox03367\"},\"id\":\"3009\",\"type\":\"Column\"},{\"attributes\":{\"bottom\":{\"field\":\"bottom\"},\"fill_color\":{\"value\":\"#30a2da\"},\"top\":{\"field\":\"top\"},\"width\":{\"value\":0.7},\"x\":{\"field\":\"index\"}},\"id\":\"3094\",\"type\":\"VBar\"},{\"attributes\":{\"x0\":{\"field\":\"x0\"},\"x1\":{\"field\":\"x1\"},\"y0\":{\"field\":\"y0\"},\"y1\":{\"field\":\"y1\"}},\"id\":\"3070\",\"type\":\"Segment\"},{\"attributes\":{\"data\":{\"x0\":[\"Labour\",\"Materials\",\"SubContract\",\"Others\",\"Total\"],\"x1\":[\"Labour\",\"Materials\",\"SubContract\",\"Others\",\"Total\"],\"y0\":{\"__ndarray__\":\"AAAAAABwdEAAAAAAAABZQAAAAAAAwFhAAAAAAAAAWkAAAAAAABiDQA==\",\"dtype\":\"float64\",\"order\":\"little\",\"shape\":[5]},\"y1\":{\"__ndarray__\":\"AAAAAABAcUAAAAAAAABZQAAAAAAAkFdAAAAAAADAWUAAAAAAAJ6BQA==\",\"dtype\":\"float64\",\"order\":\"little\",\"shape\":[5]}},\"selected\":{\"id\":\"3116\"},\"selection_policy\":{\"id\":\"3115\"}},\"id\":\"3052\",\"type\":\"ColumnDataSource\"},{\"attributes\":{},\"id\":\"3034\",\"type\":\"WheelZoomTool\"},{\"attributes\":{},\"id\":\"3120\",\"type\":\"Selection\"},{\"attributes\":{\"fill_color\":{\"value\":\"black\"},\"x\":{\"field\":\"index\"},\"y\":{\"field\":\"Costs_left_parenthesis_right_parenthesis\"}},\"id\":\"3046\",\"type\":\"Circle\"},{\"attributes\":{\"line_alpha\":{\"value\":0.1},\"x0\":{\"field\":\"x0\"},\"x1\":{\"field\":\"x1\"},\"y0\":{\"field\":\"y0\"},\"y1\":{\"field\":\"y1\"}},\"id\":\"3063\",\"type\":\"Segment\"},{\"attributes\":{\"x0\":{\"field\":\"x0\"},\"x1\":{\"field\":\"x1\"},\"y0\":{\"field\":\"y0\"},\"y1\":{\"field\":\"y1\"}},\"id\":\"3078\",\"type\":\"Segment\"},{\"attributes\":{},\"id\":\"3021\",\"type\":\"CategoricalScale\"},{\"attributes\":{\"tools\":[{\"id\":\"3032\"},{\"id\":\"3033\"},{\"id\":\"3034\"},{\"id\":\"3035\"},{\"id\":\"3036\"}]},\"id\":\"3038\",\"type\":\"Toolbar\"},{\"attributes\":{\"line_alpha\":{\"value\":1.0},\"line_cap\":{\"value\":\"butt\"},\"line_color\":{\"value\":\"black\"},\"line_dash\":{\"value\":[]},\"line_dash_offset\":{\"value\":0},\"line_join\":{\"value\":\"bevel\"},\"line_width\":{\"value\":1},\"x0\":{\"field\":\"x0\"},\"x1\":{\"field\":\"x1\"},\"y0\":{\"field\":\"y0\"},\"y1\":{\"field\":\"y1\"}},\"id\":\"3059\",\"type\":\"Segment\"},{\"attributes\":{\"source\":{\"id\":\"3068\"}},\"id\":\"3074\",\"type\":\"CDSView\"},{\"attributes\":{\"end\":664.1,\"reset_end\":664.1,\"reset_start\":26.9,\"start\":26.9,\"tags\":[[[\"Costs ($)\",\"Costs ($)\",null]]]},\"id\":\"3015\",\"type\":\"Range1d\"},{\"attributes\":{\"source\":{\"id\":\"3084\"}},\"id\":\"3090\",\"type\":\"CDSView\"},{\"attributes\":{\"bottom\":{\"field\":\"bottom\"},\"fill_alpha\":{\"value\":0.2},\"fill_color\":{\"value\":\"#30a2da\"},\"hatch_alpha\":{\"value\":0.2},\"line_alpha\":{\"value\":0.2},\"top\":{\"field\":\"top\"},\"width\":{\"value\":0.7},\"x\":{\"field\":\"index\"}},\"id\":\"3088\",\"type\":\"VBar\"},{\"attributes\":{\"bottom\":{\"field\":\"bottom\"},\"fill_alpha\":{\"value\":0.1},\"fill_color\":{\"value\":\"#30a2da\"},\"hatch_alpha\":{\"value\":0.1},\"line_alpha\":{\"value\":0.1},\"top\":{\"field\":\"top\"},\"width\":{\"value\":0.7},\"x\":{\"field\":\"index\"}},\"id\":\"3087\",\"type\":\"VBar\"},{\"attributes\":{},\"id\":\"3121\",\"type\":\"UnionRenderers\"},{\"attributes\":{\"data\":{\"x0\":[\"Labour\",\"Materials\",\"SubContract\",\"Others\",\"Total\"],\"x1\":[\"Labour\",\"Materials\",\"SubContract\",\"Others\",\"Total\"],\"y0\":{\"__ndarray__\":\"AAAAAADAXkAAAAAAAABZQAAAAAAAAFRAAAAAAAAAWUAAAAAAAGB6QA==\",\"dtype\":\"float64\",\"order\":\"little\",\"shape\":[5]},\"y1\":{\"__ndarray__\":\"AAAAAADAZUAAAAAAAABZQAAAAAAAMFVAAAAAAABAWUAAAAAAAFR9QA==\",\"dtype\":\"float64\",\"order\":\"little\",\"shape\":[5]}},\"selected\":{\"id\":\"3118\"},\"selection_policy\":{\"id\":\"3117\"}},\"id\":\"3060\",\"type\":\"ColumnDataSource\"},{\"attributes\":{\"bottom\":{\"field\":\"bottom\"},\"fill_alpha\":{\"value\":0.1},\"fill_color\":{\"value\":\"#30a2da\"},\"hatch_alpha\":{\"value\":0.1},\"line_alpha\":{\"value\":0.1},\"top\":{\"field\":\"top\"},\"width\":{\"value\":0.7},\"x\":{\"field\":\"index\"}},\"id\":\"3095\",\"type\":\"VBar\"},{\"attributes\":{\"bottom\":{\"field\":\"bottom\"},\"fill_alpha\":{\"value\":1.0},\"fill_color\":{\"value\":\"#30a2da\"},\"hatch_alpha\":{\"value\":1.0},\"hatch_color\":{\"value\":\"black\"},\"hatch_scale\":{\"value\":12.0},\"hatch_weight\":{\"value\":1.0},\"line_alpha\":{\"value\":1.0},\"line_cap\":{\"value\":\"butt\"},\"line_color\":{\"value\":\"black\"},\"line_dash\":{\"value\":[]},\"line_dash_offset\":{\"value\":0},\"line_join\":{\"value\":\"bevel\"},\"line_width\":{\"value\":1},\"top\":{\"field\":\"top\"},\"width\":{\"value\":0.7},\"x\":{\"field\":\"index\"}},\"id\":\"3091\",\"type\":\"VBar\"},{\"attributes\":{\"coordinates\":null,\"data_source\":{\"id\":\"3084\"},\"glyph\":{\"id\":\"3086\"},\"group\":null,\"hover_glyph\":null,\"muted_glyph\":{\"id\":\"3088\"},\"nonselection_glyph\":{\"id\":\"3087\"},\"selection_glyph\":{\"id\":\"3091\"},\"view\":{\"id\":\"3090\"}},\"id\":\"3089\",\"type\":\"GlyphRenderer\"},{\"attributes\":{},\"id\":\"3122\",\"type\":\"Selection\"},{\"attributes\":{\"child\":{\"id\":\"3151\"},\"name\":\"ManHour Tracking\",\"title\":\"ManHour Tracking\"},\"id\":\"3152\",\"type\":\"Panel\"},{\"attributes\":{\"margin\":[0,0,0,0],\"name\":\"ManHour Tracking\",\"tags\":[\"hidden\"]},\"id\":\"3151\",\"type\":\"Spacer\"},{\"attributes\":{\"overlay\":{\"id\":\"3037\"}},\"id\":\"3035\",\"type\":\"BoxZoomTool\"},{\"attributes\":{\"bottom\":{\"field\":\"bottom\"},\"fill_alpha\":{\"value\":1.0},\"fill_color\":{\"value\":\"#30a2da\"},\"hatch_alpha\":{\"value\":1.0},\"hatch_color\":{\"value\":\"black\"},\"hatch_scale\":{\"value\":12.0},\"hatch_weight\":{\"value\":1.0},\"line_alpha\":{\"value\":1.0},\"line_cap\":{\"value\":\"butt\"},\"line_color\":{\"value\":\"black\"},\"line_dash\":{\"value\":[]},\"line_dash_offset\":{\"value\":0},\"line_join\":{\"value\":\"bevel\"},\"line_width\":{\"value\":1},\"top\":{\"field\":\"top\"},\"width\":{\"value\":0.7},\"x\":{\"field\":\"index\"}},\"id\":\"3099\",\"type\":\"VBar\"},{\"attributes\":{\"bottom\":{\"field\":\"bottom\"},\"fill_color\":{\"value\":\"#30a2da\"},\"top\":{\"field\":\"top\"},\"width\":{\"value\":0.7},\"x\":{\"field\":\"index\"}},\"id\":\"3086\",\"type\":\"VBar\"},{\"attributes\":{\"data\":{\"bottom\":{\"__ndarray__\":\"AAAAAAAgbEAAAAAAAABZQAAAAAAAYFZAAAAAAACAWUAAAAAAACSAQA==\",\"dtype\":\"float64\",\"order\":\"little\",\"shape\":[5]},\"index\":[\"Labour\",\"Materials\",\"SubContract\",\"Others\",\"Total\"],\"top\":{\"__ndarray__\":\"AAAAAADAZUAAAAAAAABZQAAAAAAAMFVAAAAAAABAWUAAAAAAAFR9QA==\",\"dtype\":\"float64\",\"order\":\"little\",\"shape\":[5]}},\"selected\":{\"id\":\"3126\"},\"selection_policy\":{\"id\":\"3125\"}},\"id\":\"3092\",\"type\":\"ColumnDataSource\"},{\"attributes\":{},\"id\":\"3032\",\"type\":\"SaveTool\"},{\"attributes\":{},\"id\":\"3104\",\"type\":\"BasicTickFormatter\"},{\"attributes\":{\"data\":{\"x0\":[[\"Labour\",-0.2],[\"Materials\",-0.2],[\"SubContract\",-0.2],[\"Others\",-0.2],[\"Total\",-0.2]],\"x1\":[[\"Labour\",0.2],[\"Materials\",0.2],[\"SubContract\",0.2],[\"Others\",0.2],[\"Total\",0.2]],\"y0\":[123.0,100.0,80.0,100.0,422.0],\"y1\":[123.0,100.0,80.0,100.0,422.0]},\"selected\":{\"id\":\"3120\"},\"selection_policy\":{\"id\":\"3119\"}},\"id\":\"3068\",\"type\":\"ColumnDataSource\"},{\"attributes\":{},\"id\":\"3101\",\"type\":\"CategoricalTickFormatter\"},{\"attributes\":{\"coordinates\":null,\"data_source\":{\"id\":\"3044\"},\"glyph\":{\"id\":\"3046\"},\"group\":null,\"hover_glyph\":null,\"muted_glyph\":{\"id\":\"3048\"},\"nonselection_glyph\":{\"id\":\"3047\"},\"selection_glyph\":{\"id\":\"3051\"},\"view\":{\"id\":\"3050\"}},\"id\":\"3049\",\"type\":\"GlyphRenderer\"},{\"attributes\":{\"data\":{\"Costs_left_parenthesis_right_parenthesis\":{\"__ndarray__\":\"\",\"dtype\":\"float64\",\"order\":\"little\",\"shape\":[0]},\"index\":{\"__ndarray__\":\"\",\"dtype\":\"float64\",\"order\":\"little\",\"shape\":[0]}},\"selected\":{\"id\":\"3114\"},\"selection_policy\":{\"id\":\"3113\"}},\"id\":\"3044\",\"type\":\"ColumnDataSource\"},{\"attributes\":{\"child\":{\"id\":\"3008\"},\"name\":\"Costs\",\"title\":\"Costs\"},\"id\":\"3150\",\"type\":\"Panel\"},{\"attributes\":{\"line_alpha\":{\"value\":1.0},\"line_cap\":{\"value\":\"butt\"},\"line_color\":{\"value\":\"black\"},\"line_dash\":{\"value\":[]},\"line_dash_offset\":{\"value\":0},\"line_join\":{\"value\":\"bevel\"},\"line_width\":{\"value\":1},\"x0\":{\"field\":\"x0\"},\"x1\":{\"field\":\"x1\"},\"y0\":{\"field\":\"y0\"},\"y1\":{\"field\":\"y1\"}},\"id\":\"3075\",\"type\":\"Segment\"},{\"attributes\":{\"coordinates\":null,\"data_source\":{\"id\":\"3052\"},\"glyph\":{\"id\":\"3054\"},\"group\":null,\"hover_glyph\":null,\"muted_glyph\":{\"id\":\"3056\"},\"nonselection_glyph\":{\"id\":\"3055\"},\"selection_glyph\":{\"id\":\"3059\"},\"view\":{\"id\":\"3058\"}},\"id\":\"3057\",\"type\":\"GlyphRenderer\"},{\"attributes\":{},\"id\":\"3105\",\"type\":\"AllLabels\"},{\"attributes\":{\"line_alpha\":{\"value\":0.1},\"x0\":{\"field\":\"x0\"},\"x1\":{\"field\":\"x1\"},\"y0\":{\"field\":\"y0\"},\"y1\":{\"field\":\"y1\"}},\"id\":\"3079\",\"type\":\"Segment\"},{\"attributes\":{},\"id\":\"3123\",\"type\":\"UnionRenderers\"},{\"attributes\":{\"coordinates\":null,\"data_source\":{\"id\":\"3060\"},\"glyph\":{\"id\":\"3062\"},\"group\":null,\"hover_glyph\":null,\"muted_glyph\":{\"id\":\"3064\"},\"nonselection_glyph\":{\"id\":\"3063\"},\"selection_glyph\":{\"id\":\"3067\"},\"view\":{\"id\":\"3066\"}},\"id\":\"3065\",\"type\":\"GlyphRenderer\"},{\"attributes\":{},\"id\":\"3036\",\"type\":\"ResetTool\"},{\"attributes\":{},\"id\":\"3124\",\"type\":\"Selection\"},{\"attributes\":{\"line_alpha\":{\"value\":0.2},\"x0\":{\"field\":\"x0\"},\"x1\":{\"field\":\"x1\"},\"y0\":{\"field\":\"y0\"},\"y1\":{\"field\":\"y1\"}},\"id\":\"3056\",\"type\":\"Segment\"},{\"attributes\":{\"bottom_units\":\"screen\",\"coordinates\":null,\"fill_alpha\":0.5,\"fill_color\":\"lightgrey\",\"group\":null,\"left_units\":\"screen\",\"level\":\"overlay\",\"line_alpha\":1.0,\"line_color\":\"black\",\"line_dash\":[4,4],\"line_width\":2,\"right_units\":\"screen\",\"syncable\":false,\"top_units\":\"screen\"},\"id\":\"3037\",\"type\":\"BoxAnnotation\"},{\"attributes\":{\"line_alpha\":{\"value\":1.0},\"line_cap\":{\"value\":\"butt\"},\"line_color\":{\"value\":\"black\"},\"line_dash\":{\"value\":[]},\"line_dash_offset\":{\"value\":0},\"line_join\":{\"value\":\"bevel\"},\"line_width\":{\"value\":1},\"x0\":{\"field\":\"x0\"},\"x1\":{\"field\":\"x1\"},\"y0\":{\"field\":\"y0\"},\"y1\":{\"field\":\"y1\"}},\"id\":\"3067\",\"type\":\"Segment\"},{\"attributes\":{\"coordinates\":null,\"data_source\":{\"id\":\"3092\"},\"glyph\":{\"id\":\"3094\"},\"group\":null,\"hover_glyph\":null,\"muted_glyph\":{\"id\":\"3096\"},\"nonselection_glyph\":{\"id\":\"3095\"},\"selection_glyph\":{\"id\":\"3099\"},\"view\":{\"id\":\"3098\"}},\"id\":\"3097\",\"type\":\"GlyphRenderer\"},{\"attributes\":{\"line_alpha\":{\"value\":0.2},\"x0\":{\"field\":\"x0\"},\"x1\":{\"field\":\"x1\"},\"y0\":{\"field\":\"y0\"},\"y1\":{\"field\":\"y1\"}},\"id\":\"3064\",\"type\":\"Segment\"},{\"attributes\":{\"angle\":{\"value\":0.0},\"fill_alpha\":{\"value\":1.0},\"fill_color\":{\"value\":\"black\"},\"hatch_alpha\":{\"value\":1.0},\"hatch_color\":{\"value\":\"black\"},\"hatch_scale\":{\"value\":12.0},\"hatch_weight\":{\"value\":1.0},\"line_alpha\":{\"value\":1.0},\"line_cap\":{\"value\":\"butt\"},\"line_color\":{\"value\":\"black\"},\"line_dash\":{\"value\":[]},\"line_dash_offset\":{\"value\":0},\"line_join\":{\"value\":\"bevel\"},\"line_width\":{\"value\":1},\"size\":{\"value\":4},\"x\":{\"field\":\"index\"},\"y\":{\"field\":\"Costs_left_parenthesis_right_parenthesis\"}},\"id\":\"3051\",\"type\":\"Circle\"},{\"attributes\":{},\"id\":\"3114\",\"type\":\"Selection\"},{\"attributes\":{\"margin\":[5,10,5,10],\"options\":[\"505CH2\",\"2758\",\"ABC81293\"],\"title\":\"Part Numbers\",\"value\":\"505CH2\"},\"id\":\"3011\",\"type\":\"panel.models.widgets.CustomSelect\"},{\"attributes\":{\"line_alpha\":{\"value\":0.1},\"x0\":{\"field\":\"x0\"},\"x1\":{\"field\":\"x1\"},\"y0\":{\"field\":\"y0\"},\"y1\":{\"field\":\"y1\"}},\"id\":\"3071\",\"type\":\"Segment\"},{\"attributes\":{\"data\":{\"x0\":[[\"Labour\",-0.2],[\"Materials\",-0.2],[\"SubContract\",-0.2],[\"Others\",-0.2],[\"Total\",-0.2]],\"x1\":[[\"Labour\",0.2],[\"Materials\",0.2],[\"SubContract\",0.2],[\"Others\",0.2],[\"Total\",0.2]],\"y0\":[327.0,100.0,99.0,104.0,611.0],\"y1\":[327.0,100.0,99.0,104.0,611.0]},\"selected\":{\"id\":\"3122\"},\"selection_policy\":{\"id\":\"3121\"}},\"id\":\"3076\",\"type\":\"ColumnDataSource\"},{\"attributes\":{\"margin\":[0,0,0,0],\"tabs\":[{\"id\":\"3150\"},{\"id\":\"3152\"}]},\"id\":\"3007\",\"type\":\"panel.models.tabs.Tabs\"},{\"attributes\":{\"fill_alpha\":{\"value\":0.2},\"fill_color\":{\"value\":\"black\"},\"hatch_alpha\":{\"value\":0.2},\"line_alpha\":{\"value\":0.2},\"x\":{\"field\":\"index\"},\"y\":{\"field\":\"Costs_left_parenthesis_right_parenthesis\"}},\"id\":\"3048\",\"type\":\"Circle\"},{\"attributes\":{\"bottom\":{\"field\":\"bottom\"},\"fill_alpha\":{\"value\":0.2},\"fill_color\":{\"value\":\"#30a2da\"},\"hatch_alpha\":{\"value\":0.2},\"line_alpha\":{\"value\":0.2},\"top\":{\"field\":\"top\"},\"width\":{\"value\":0.7},\"x\":{\"field\":\"index\"}},\"id\":\"3096\",\"type\":\"VBar\"},{\"attributes\":{\"client_comm_id\":\"78c6d95cb4f5428fa798445423de686f\",\"comm_id\":\"75bd2255869e476d92aad1e694671359\",\"plot_id\":\"3007\"},\"id\":\"3219\",\"type\":\"panel.models.comm_manager.CommManager\"},{\"attributes\":{\"coordinates\":null,\"group\":null,\"text\":\"Part Number is:505CH2\\nWork Performed is:REP\",\"text_color\":\"black\",\"text_font_size\":\"12pt\"},\"id\":\"3017\",\"type\":\"Title\"},{\"attributes\":{\"coordinates\":null,\"data_source\":{\"id\":\"3068\"},\"glyph\":{\"id\":\"3070\"},\"group\":null,\"hover_glyph\":null,\"muted_glyph\":{\"id\":\"3072\"},\"nonselection_glyph\":{\"id\":\"3071\"},\"selection_glyph\":{\"id\":\"3075\"},\"view\":{\"id\":\"3074\"}},\"id\":\"3073\",\"type\":\"GlyphRenderer\"},{\"attributes\":{\"data\":{\"bottom\":{\"__ndarray__\":\"AAAAAABAcUAAAAAAAABZQAAAAAAAkFdAAAAAAADAWUAAAAAAAJ6BQA==\",\"dtype\":\"float64\",\"order\":\"little\",\"shape\":[5]},\"index\":[\"Labour\",\"Materials\",\"SubContract\",\"Others\",\"Total\"],\"top\":{\"__ndarray__\":\"AAAAAAAgbEAAAAAAAABZQAAAAAAAYFZAAAAAAACAWUAAAAAAACSAQA==\",\"dtype\":\"float64\",\"order\":\"little\",\"shape\":[5]}},\"selected\":{\"id\":\"3124\"},\"selection_policy\":{\"id\":\"3123\"}},\"id\":\"3084\",\"type\":\"ColumnDataSource\"},{\"attributes\":{\"line_alpha\":{\"value\":1.0},\"line_cap\":{\"value\":\"butt\"},\"line_color\":{\"value\":\"black\"},\"line_dash\":{\"value\":[]},\"line_dash_offset\":{\"value\":0},\"line_join\":{\"value\":\"bevel\"},\"line_width\":{\"value\":1},\"x0\":{\"field\":\"x0\"},\"x1\":{\"field\":\"x1\"},\"y0\":{\"field\":\"y0\"},\"y1\":{\"field\":\"y1\"}},\"id\":\"3083\",\"type\":\"Segment\"},{\"attributes\":{\"margin\":[5,10,5,10],\"options\":[\"REP\",\"O/H\",\"SST\"],\"title\":\"Work Required\",\"value\":\"REP\"},\"id\":\"3012\",\"type\":\"panel.models.widgets.CustomSelect\"},{\"attributes\":{},\"id\":\"3125\",\"type\":\"UnionRenderers\"},{\"attributes\":{\"line_alpha\":{\"value\":0.2},\"x0\":{\"field\":\"x0\"},\"x1\":{\"field\":\"x1\"},\"y0\":{\"field\":\"y0\"},\"y1\":{\"field\":\"y1\"}},\"id\":\"3080\",\"type\":\"Segment\"},{\"attributes\":{},\"id\":\"3126\",\"type\":\"Selection\"},{\"attributes\":{},\"id\":\"3023\",\"type\":\"LinearScale\"}],\"root_ids\":[\"3007\",\"3219\",\"3286\"]},\"title\":\"Bokeh Application\",\"version\":\"2.4.2\"}};\n",
       "    var render_items = [{\"docid\":\"28441094-565f-4637-9ebb-7f7f63f33a5d\",\"root_ids\":[\"3007\"],\"roots\":{\"3007\":\"1e8e9898-6205-4b25-a6e1-cad36994cf1e\"}}];\n",
       "    root.Bokeh.embed.embed_items_notebook(docs_json, render_items);\n",
       "  }\n",
       "  if (root.Bokeh !== undefined && root.Bokeh.Panel !== undefined) {\n",
       "    embed_document(root);\n",
       "  } else {\n",
       "    var attempts = 0;\n",
       "    var timer = setInterval(function(root) {\n",
       "      if (root.Bokeh !== undefined && root.Bokeh.Panel !== undefined) {\n",
       "        clearInterval(timer);\n",
       "        embed_document(root);\n",
       "      } else if (document.readyState == \"complete\") {\n",
       "        attempts++;\n",
       "        if (attempts > 200) {\n",
       "          clearInterval(timer);\n",
       "          console.log(\"Bokeh: ERROR: Unable to run BokehJS code because BokehJS library is missing\");\n",
       "        }\n",
       "      }\n",
       "    }, 25, root)\n",
       "  }\n",
       "})(window);</script>"
      ],
      "text/plain": [
       "Tabs(dynamic=True)\n",
       "    [0] Row(name='Costs')\n",
       "        [0] WidgetBox\n",
       "            [0] Markdown(str)\n",
       "            [1] Select(name='Part Numbers', options=['505CH2', 2758, ...], value='505CH2')\n",
       "            [2] Select(name='Work Required', options=['REP', 'O/H', 'SST'], value='REP')\n",
       "        [1] ParamFunction(function)\n",
       "    [1] Row(name='ManHour Tracking')\n",
       "        [0] WidgetBox\n",
       "            [0] Markdown(str)\n",
       "            [1] Select(name='Part Numbers', options=['505CH2', 2758, ...], value='505CH2')\n",
       "            [2] Select(name='Work Required', options=['REP', 'O/H', 'SST'], value='REP')\n",
       "        [1] Column\n",
       "            [0] ParamFunction(function)\n",
       "        [2] ParamFunction(function)"
      ]
     },
     "execution_count": 8,
     "metadata": {
      "application/vnd.holoviews_exec.v0+json": {
       "id": "3007"
      }
     },
     "output_type": "execute_result"
    }
   ],
   "source": [
    "import os\n",
    "os.sys.path\n",
    "\n",
    "# Installing libraries\n",
    "!pip3 install opencv-python\n",
    "!pip3 install numpy\n",
    "!pip3 install pandas\n",
    "!pip3 install panel\n",
    "\n",
    "# Importing\n",
    "import numpy as np\n",
    "import pandas as pd\n",
    "from matplotlib.figure import Figure\n",
    "import panel as pn\n",
    "from panel.interact import interact\n",
    "import param\n",
    "import matplotlib.pyplot as plt\n",
    "import hvplot.pandas\n",
    "pn.extension()\n",
    "\n",
    "\n",
    "# Reading Excel files and creation of different Dfs\n",
    "df = pd.read_excel(r\"C:\\Users\\Keithon\\Desktop\\Capstone\\Data\\Test.xlsx\",sheet_name='WorkstageRecordItem')\n",
    "df1 = pd.read_excel(r\"C:\\Users\\Keithon\\Desktop\\Capstone\\Data\\Test.xlsx\",sheet_name='JobCost')\n",
    "df2 = pd.read_excel(r\"C:\\Users\\Keithon\\Desktop\\Capstone\\Data\\Test.xlsx\",sheet_name='JobOrder')\n",
    "\n",
    "df = df.drop(columns =[\"Id\",\"JobOrderId\",\"Status\",\"Reference\",\"TechnicianSignature_StampNo\",\"ApproverRole\",\"ReleaseToSignatorySignature_StampNo\",\"TechnicianSignature_SignedOn\",\"CompletedByUserId\",\"CompletedByFullname\",\"ApprovedByUserId\",\"ApprovedByFullname\",\"ApprovedOn\",\"ReleaseToSignatorySignature_DigitalCertificateId\",\"ReleaseToSignatorySignature_Signature\",\"ReleaseToSignatorySignature_SignedByUserId\",\"ReleaseToSignatorySignature_SignedOn\",\"TechnicianSignature_DigitalCertificateId\",\"TechnicianSignature_Signature\",\"TechnicianSignature_SignedByUserId\"], axis = 1)\n",
    "df1 = df1.drop([\"MWC\"], axis = 1)\n",
    "df2 = df2.drop([\"MWC\",\"ReviewerSignature_Signature\",\"ComplianceDeclarationRecord_ReleaseToSignatorySignature_Signature\",\"SignWorkscopeAndCRRBy\",\"WorkScopeId\",\"SignWorkscopeAndCRRBy\",\"TechnicianSignature_StampNo\",\"TechnicianSignature_SignedOn\",\"TechnicianSignature_SignedByUserId\",\"TechnicianSignature_Signature\",\"TechnicianSignature_DigitalCertificateId\",\"ReviewerSignature_StampNo\",\"ReviewerSignature_SignedOn\",\"ReviewerSignature_SignedByUserId\",\"ReviewerSignature_DigitalCertificateId\",\"ComplianceDeclarationRecord_TechnicianSignature_StampNo\",\"ComplianceDeclarationRecord_ReleaseToSignatorySignature_StampNo\",\"ComplianceDeclarationRecord_TechnicianSignature_SignedOn\",\"ComplianceDeclarationRecord_TechnicianSignature_SignedByUserId\",\"ComplianceDeclarationRecord_TechnicianSignature_Signature\",\"ComplianceDeclarationRecord_TechnicianSignature_DigitalCertificateId\",\"ComplianceDeclarationRecord_ReleaseToSignatorySignature_SignedOn\",\"ComplianceDeclarationRecord_ReleaseToSignatorySignature_SignedByUserId\",\"ComplianceDeclarationRecord_ReleaseToSignatorySignature_DigitalCertificateId\",\"RowVersion\",\"ComplianceDeclarationRecord_ReviewStatus\",\"ComplianceDeclarationRecord_LastDeclaredOn\",\"RejectReason\",\"ComplianceDeclarationRecord_LastDeclaredByUserId\",\"ComplianceDeclarationRecord_LastDeclaredByFullName\",\"ComplianceDeclarationRecord_LastApprovedOn\",\"ComplianceDeclarationRecord_LastApprovedByUserId\",\"ComplianceDeclarationRecord_LastApprovedByFullName\",\"ComplianceDeclarationRecord_IsDeclared\",\"ReviewedBy\",\"NSN\",\"SignWorkscopeAndCRRSignature_DigitalCertificateId\",\"TechnicianSignature_StampNo\",\"MPGType\",\"SignWorkscopeAndCRRSignature_Signature\",\"SignWorkscopeAndCRRSignature_SignedByUserId\",\"SignWorkscopeAndCRRSignature_SignedOn\",\"SignWorkscopeAndCRRSignature_StampNo\"], axis = 1)\n",
    "\n",
    "# Seperation of date and time\n",
    "df['Dates'] = pd.to_datetime(df['CompletedOn'], format = '%Y%m%d').dt.date\n",
    "df['Time'] = pd.to_datetime(df['CompletedOn'], format = '%H%m%s').dt.time\n",
    "\n",
    "# Sorting Values based on Job Order Number\n",
    "df = df.sort_values(by=['JobOrderNo','Sequence'], ascending = True)\n",
    "df1 = df1.rename(columns ={'JobOrder':'JobOrderNo'})\n",
    "\n",
    "#Merging Excel Sheets based on Job Order Number\n",
    "df3 = pd.merge(df, df1, left_on= 'JobOrderNo', right_on ='JobOrderNo')\n",
    "df4 = pd.merge(df3,df2, left_on = 'JobOrderNo', right_on = 'JobOrderNo')\n",
    "\n",
    "\n",
    "# Creating new dfs\n",
    "df1 = pd.read_excel(r\"C:\\Users\\Keithon\\Desktop\\Capstone\\Data\\Test.xlsx\",sheet_name='JobCost')\n",
    "Cost_df = df1.drop(['JobOrder','MWC','PartDesc','Strtmlfn','Malfend','Aircraft','HrClocked'], axis = 1)\n",
    "Total_Part_Number_Avail = list(Cost_df['PartNo'].unique())\n",
    "Total_Work_Req_Avail = list(Cost_df['WorkReq'].unique())\n",
    "\n",
    "# Setting up for Time\n",
    "df1 = pd.read_excel(r\"C:\\Users\\Keithon\\Desktop\\Capstone\\Data\\Test.xlsx\",sheet_name='JobCost')\n",
    "Time_df = df1.drop(['JobOrder','SerialNo','MWC','PartDesc','Aircraft','ActTotCost','ActMatCost','ActLabCost','ActSubcCost','ActOthCost'], axis = 1)\n",
    "New_Rows = []\n",
    "\n",
    "Time_df['Difference'] = (Time_df['Malfend'] - Time_df['Strtmlfn']).dt.days\n",
    "\n",
    "# Removing Start and end dates\n",
    "Time_df = Time_df.drop(['Strtmlfn','Malfend'],axis = 1)\n",
    "\n",
    "\n",
    "df1 = pd.read_excel(r\"C:\\Users\\Keithon\\Desktop\\Capstone\\Data\\Test.xlsx\",sheet_name='JobCost')\n",
    "Cost_df = df1.drop(['JobOrder','MWC','PartDesc','Strtmlfn','Malfend','Aircraft','HrClocked'], axis = 1)\n",
    "Cost_df = Cost_df.rename(columns ={'ActTotCost':'Total','ActMatCost':'Materials','ActSubcCost':'SubContract','ActLabCost':'Labour','ActOthCost':'Others'})\n",
    "Cost_df = Cost_df[['PartNo','WorkReq','Labour', 'Materials', 'SubContract', 'Others', 'Total']]\n",
    "\n",
    "\n",
    "# Setting up title\n",
    "Title = '##Interactive Dashboard'\n",
    "\n",
    "# Setting up panel widgets\n",
    "Select_X = pn.widgets.Select(name='Part Numbers', options= Total_Part_Number_Avail)\n",
    "Select_Y = pn.widgets.Select(name='Work Required', options= Total_Work_Req_Avail)\n",
    "Select_A = pn.widgets.Select(name='Part Numbers', options= Total_Part_Number_Avail)\n",
    "Select_B = pn.widgets.Select(name='Work Required', options= Total_Work_Req_Avail)\n",
    "\n",
    "# Setting up plot for box\n",
    "@pn.depends(Select_X,Select_Y)\n",
    "def Box_Plot(Select_X,Select_Y):\n",
    "    Box = Cost_df[(Cost_df['PartNo'] == Select_X) & (Cost_df['WorkReq'] == Select_Y)].hvplot.box(title = 'Part Number is:' + str(Select_X) +'\\n'+'Work Performed is:'+str(Select_Y) ,value_label='Costs ($)',xlabel = 'Different Types of Cost',legend = False, width = 1100, height = 700)\n",
    "    return Box\n",
    "\n",
    "\n",
    "# Setting up Mahour tracking\n",
    "@pn.depends(Select_A,Select_B)\n",
    "def Hour_Plot(Select_A,Select_B):\n",
    "    Time_Check = Time_df[(Time_df['PartNo'] == Select_A) & (Time_df['WorkReq'] == Select_B)].hvplot.box(title = 'Part Number is:' + str(Select_A) +'\\n'+'Work Performed is:'+str(Select_B) ,y = 'Difference',ylabel = 'Number of Days',xlabel='Average Turn Around Days',legend = False,width = 500, height = 700)\n",
    "    return Time_Check\n",
    "\n",
    "@pn.depends(Select_A,Select_B)\n",
    "def Day_Plot(Select_A,Select_B):\n",
    "    ManHour = Time_df[(Time_df['PartNo'] == Select_A) & (Time_df['WorkReq'] == Select_B)].hvplot.box(title = 'Part Number is: '+ str(Select_A)+ '\\n' + 'Work Hours',y = 'HrClocked',ylabel = 'Hours',xlabel='ManHour',legend = False, width = 500, height = 700)\n",
    "    return ManHour\n",
    "    \n",
    "# For Manhour tab\n",
    "p2 = pn.Row(\n",
    "        pn.WidgetBox(Title,Select_A,Select_B),\n",
    "        pn.Column(Hour_Plot),\n",
    "        pn.bind(Day_Plot,Select_A,Select_B), name = 'ManHour Tracking')\n",
    "\n",
    "# For Cost tab\n",
    "p1 = pn.Row(\n",
    "        pn.WidgetBox(Title,Select_X,Select_Y),\n",
    "        pn.bind(Box_Plot,Select_X,Select_Y), name = 'Costs')\n",
    "\n",
    "\n",
    "tabs = pn.Tabs(p1,p2, dynamic = True)\n",
    "tabs\n"
   ]
  }
 ],
 "metadata": {
  "kernelspec": {
   "display_name": "Python 3 (ipykernel)",
   "language": "python",
   "name": "python3"
  },
  "language_info": {
   "codemirror_mode": {
    "name": "ipython",
    "version": 3
   },
   "file_extension": ".py",
   "mimetype": "text/x-python",
   "name": "python",
   "nbconvert_exporter": "python",
   "pygments_lexer": "ipython3",
   "version": "3.9.12"
  }
 },
 "nbformat": 4,
 "nbformat_minor": 5
}
